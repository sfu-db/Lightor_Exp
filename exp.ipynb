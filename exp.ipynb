{
 "cells": [
  {
   "cell_type": "code",
   "execution_count": 1,
   "metadata": {},
   "outputs": [
    {
     "name": "stderr",
     "output_type": "stream",
     "text": [
      "/rcg/software/Linux/Ubuntu/16.04/amd64/LANG/PYTHON/3.5.2-SYSTEM/lib/python3.5/site-packages/sklearn/ensemble/weight_boosting.py:29: DeprecationWarning: numpy.core.umath_tests is an internal NumPy module and should not be imported. It will be removed in a future NumPy release.\n",
      "  from numpy.core.umath_tests import inner1d\n"
     ]
    }
   ],
   "source": [
    "%matplotlib inline\n",
    "import matplotlib.pyplot as plt\n",
    "from highlight_initializer import *\n",
    "from baseline_evaluation import evaluate_baseline\n",
    "from utils import *\n",
    "import copy\n",
    "from highlight_extractor import *\n",
    "from parameters import *"
   ]
  },
  {
   "cell_type": "code",
   "execution_count": null,
   "metadata": {},
   "outputs": [],
   "source": [
    "dota2_train_data = DataLoader('Dota2', 'train', **INITIAL_PARA)\n",
    "dota2_test_data = DataLoader('Dota2', 'test', **INITIAL_PARA)\n",
    "lol_train_data = DataLoader('LOL', 'train', **INITIAL_PARA)\n",
    "lol_test_data = DataLoader('LOL', 'test', **INITIAL_PARA)"
   ]
  },
  {
   "cell_type": "code",
   "execution_count": null,
   "metadata": {},
   "outputs": [],
   "source": [
    "dota2_model1 = train(dota2_train_data, [0])\n",
    "dota2_model3 = train(dota2_train_data, [0, 1, 2])\n",
    "dota2_model2 = train(dota2_train_data, [0, 1])\n",
    "lol_model = train(lol_train_data, [0, 1, 2])\n",
    "\n",
    "expander = Adjustment(dota2_train_data, **EXPAND)\n",
    "expander.train()"
   ]
  },
  {
   "cell_type": "markdown",
   "metadata": {},
   "source": [
    "# Exp for Figure 2(a)"
   ]
  },
  {
   "cell_type": "code",
   "execution_count": null,
   "metadata": {},
   "outputs": [],
   "source": [
    "selected_file = 'sing_sing-2017-08-01-09h09m34s'\n",
    "selected_time = ['038-42', '038-30', '038-45']\n",
    "plot_peak(dota2_test_data, selected_file, sec(selected_time[0]), sec(selected_time[1]))"
   ]
  },
  {
   "cell_type": "markdown",
   "metadata": {},
   "source": [
    "# Exp for Figure 2(b)"
   ]
  },
  {
   "cell_type": "code",
   "execution_count": null,
   "metadata": {},
   "outputs": [],
   "source": [
    "show_features(dota2_train_data)"
   ]
  },
  {
   "cell_type": "markdown",
   "metadata": {},
   "source": [
    "# Exp for Figure 7(a)"
   ]
  },
  {
   "cell_type": "code",
   "execution_count": null,
   "metadata": {
    "scrolled": false
   },
   "outputs": [],
   "source": [
    "k = 10\n",
    "dota2_test_data1 = copy.deepcopy(dota2_test_data)\n",
    "dota2_test_data2 = copy.deepcopy(dota2_test_data)\n",
    "\n",
    "apply_model(dota2_model1, dota2_test_data, 120, [4])\n",
    "ML_num = dota2_test_data.predicted_labels\n",
    "ML_num_precision = []\n",
    "\n",
    "apply_model(dota2_model2, dota2_test_data1, 120, [4, 5])\n",
    "ML_num_len = dota2_test_data1.predicted_labels\n",
    "ML_num_len_precision = []\n",
    "\n",
    "apply_model(dota2_model3, dota2_test_data2, 120, [4, 5, 6])\n",
    "ML_num_len_sim = dota2_test_data2.predicted_labels\n",
    "ML_num_len_sim_precision = []\n",
    "\n",
    "gt = {}\n",
    "for f in dota2_test_data.true_labels:\n",
    "    gt[f] = [sec(j[0]) for j in dota2_test_data.true_labels[f]]\n",
    "\n",
    "for i in range(1, k + 1):\n",
    "    true_num = [0, 0 ,0]\n",
    "    for f in gt:\n",
    "        true_num[0] += len([p for p in ML_num[f][:i] if p[0] in gt[f]])\n",
    "        true_num[1] += len([p for p in ML_num_len[f][:i] if p[0] in gt[f]])\n",
    "        true_num[2] += len([p for p in ML_num_len_sim[f][:i] if p[0] in gt[f]])\n",
    "    ML_num_precision.append(true_num[0] / float(i * len(gt)))\n",
    "    ML_num_len_precision.append(true_num[1] / float(i * len(gt)))\n",
    "    ML_num_len_sim_precision.append(true_num[2] / float(i * len(gt)))\n",
    "\n",
    "prec_list = [[ML_num_precision, 'cx-.', 'msg num'],\n",
    "             [ML_num_len_precision, '*b:', 'msg num + msg len'],\n",
    "             [ML_num_len_sim_precision, '+r--', 'msg num + msg len + msg sim']\n",
    "            ]\n",
    "\n",
    "\n",
    "plot_precision(prec_list, 'K', 'Chat Precision', list(range(1, k + 1)), [0.5, 1.0], [0.5,0.6,0.7,0.8,0.9,1.0])"
   ]
  },
  {
   "cell_type": "markdown",
   "metadata": {},
   "source": [
    "# Exp for Figure 7(b)"
   ]
  },
  {
   "cell_type": "code",
   "execution_count": null,
   "metadata": {},
   "outputs": [],
   "source": [
    "apply_model(dota2_model3, dota2_test_data, 120, [4, 5, 6])\n",
    "expander.generate_peak(dota2_test_data, **EXPAND)\n",
    "expander.apply(dota2_test_data)\n",
    "\n",
    "k = 10\n",
    "\n",
    "no_moving = []\n",
    "moving = []\n",
    "ideal = []\n",
    "for i in range(1, k + 1):\n",
    "    true_num = [0, 0, 0]\n",
    "    for f in dota2_test_data.predicted_labels:\n",
    "        true_labels = [sec(j[0]) for j in dota2_test_data.true_labels[f]]\n",
    "        true_num[0] += len([p[0] for p in dota2_test_data.predicted_labels[f][:i] if p[0] in true_labels])\n",
    "        true_num[1] += len([p[0] for p in dota2_test_data.predicted_labels[f][:i] if p[-1] in dota2_test_data.gt[f]])       \n",
    "        true_num[2] += len([p[0] for p in dota2_test_data.predicted_labels[f][:i] if p[-2] in dota2_test_data.gt[f]])\n",
    "        \n",
    "    no_moving.append(true_num[2] / float(i * len(dota2_test_data.predicted_labels)))\n",
    "    moving.append(true_num[1] / float(i * len(dota2_test_data.predicted_labels)))\n",
    "    ideal.append(true_num[0] / float(i * len(dota2_test_data.predicted_labels)))\n",
    "\n",
    "\n",
    "prec_list = [[no_moving, 'xg:', 'Peak'],\n",
    "             [moving, '*b-', 'Peak + Adjustment'],\n",
    "             [ideal, '+r--', 'Ideal']\n",
    "            ]\n",
    "print (len(prec_list[2][0]))\n",
    "plot_precision(prec_list, 'K', 'Video Precision', list(range(1, k + 1)), [0, 1], np.arange(0.0, 1.1, 0.2))"
   ]
  },
  {
   "cell_type": "markdown",
   "metadata": {},
   "source": [
    "# Exp for Figure 10"
   ]
  },
  {
   "cell_type": "code",
   "execution_count": null,
   "metadata": {
    "scrolled": false
   },
   "outputs": [],
   "source": [
    "k = 10\n",
    "\n",
    "lol_on_lol_DL_122 = evaluate_baseline(k, 'LOL_122_labels', lol_test_data.true_labels)\n",
    "lol_on_lol_DL_1 = evaluate_baseline(k, 'LOL_1_label', lol_test_data.true_labels)\n",
    "lol_on_dota_DL_122 = evaluate_baseline(k, 'Dota2_122_labels', dota2_test_data.true_labels)\n",
    "lol_on_dota_DL_1 = evaluate_baseline(k, 'Dota2_1_label', dota2_test_data.true_labels)\n",
    "\n",
    "\n",
    "lol_on_lol_lightor = []\n",
    "lol_on_dota_lightor = []\n",
    "\n",
    "lol_gt = {}\n",
    "dota2_gt = {}\n",
    "\n",
    "for f in lol_test_data.chat:\n",
    "    lol_gt[f] = [j[0] for j in lol_test_data.true_labels[f]]\n",
    "    \n",
    "for f in dota2_test_data.chat:\n",
    "    dota2_gt[f] = [j[0] for j in dota2_test_data.true_labels[f]]\n",
    "\n",
    "apply_model(lol_model, lol_test_data, 120, [4, 5, 6])\n",
    "apply_model(lol_model, dota2_test_data, 120, [4, 5, 6])\n",
    "    \n",
    "for i in range(1, k + 1):\n",
    "    true_num = [0, 0]\n",
    "    for f in lol_test_data.chat:\n",
    "        pred = lol_test_data.predicted_labels[f][:i]\n",
    "        true_num[0] += len([p for p in pred if time(p[0]) in lol_gt[f]])\n",
    "        \n",
    "    for f in dota2_test_data.chat:\n",
    "        pred = dota2_test_data.predicted_labels[f][:i]\n",
    "        true_num[1] += len([p for p in pred if time(p[0]) in dota2_gt[f]])\n",
    "    lol_on_lol_lightor.append(true_num[0] / float(i * len(lol_test_data.predicted_labels)))\n",
    "    lol_on_dota_lightor.append(true_num[1] / float(i * len(dota2_test_data.predicted_labels)))\n",
    "\n",
    "data_size_plot = [\n",
    "    [lol_on_lol_lightor, '-r*', 'Lightor (1 labeled video)'],\n",
    "    [lol_on_lol_DL_1, '--b+', 'Deep Learning (1 labeled video)'],\n",
    "    [lol_on_lol_DL_122, '-b+', 'Deep Learning (122 labeled videos)']\n",
    "]\n",
    "\n",
    "generalization_plot = [\n",
    "    [lol_on_lol_lightor, '-r*', 'LOL model(Lightor) on LOL data'],\n",
    "    [lol_on_dota_lightor, '--r*', 'LOL model(Lightor) on Dota2 data'],\n",
    "    [lol_on_lol_DL_122, '-b+', 'LOL model(Deep Learning) on LOL data'],\n",
    "    [lol_on_dota_DL_122, '--b+', 'LOL model (Deep Learning) on Dota2 data']\n",
    "]\n",
    "\n",
    "plot_precision(data_size_plot, 'K', 'Chat Precision', list(range(1, k + 1)), [0, 1], np.arange(0, 1.1, 0.2))\n",
    "plot_precision(generalization_plot, 'K', 'Chat Precision', list(range(1, k + 1)), [0, 1], np.arange(0, 1.1, 0.2))"
   ]
  },
  {
   "cell_type": "markdown",
   "metadata": {},
   "source": [
    "# Exp for Figure 8"
   ]
  },
  {
   "cell_type": "code",
   "execution_count": null,
   "metadata": {},
   "outputs": [],
   "source": [
    "highlight_extractor = Highlight_Extractor(ORIGINAL_DATA)\n",
    "highlight_extractor.process_all_iterations()\n",
    "\n",
    "crowd_data = {}\n",
    "for t in highlight_extractor.data_lineage:\n",
    "    for m in highlight_extractor.data_lineage[t]:\n",
    "        crowd_data[m] = highlight_extractor.data_lineage[t][m]\n",
    "\n",
    "end_gt = {}\n",
    "for f in dota2_test_data.gt:\n",
    "    end_gt[f] = []\n",
    "    for i in dota2_test_data.gt[f]:\n",
    "        end_gt[f] += list(range(i, i + 11))\n",
    "    end_gt[f] = list(set(end_gt[f]))\n",
    "    \n",
    "\n",
    "iternum = 7\n",
    "pre = []\n",
    "for i in range(0, iternum + 1):\n",
    "    p = [0, 0, 0]\n",
    "    for m in crowd_data:\n",
    "        f = DOTA2_MOVIE_NAME_BY_ID[m]   \n",
    "        l = len(crowd_data[m]) - 2\n",
    "        s = 0\n",
    "        e = 0\n",
    "        if m in highlight_extractor.data_lineage['selected']:\n",
    "            if i < l:\n",
    "                s = crowd_data[m][i][0]\n",
    "                e = crowd_data[m][i][1] if crowd_data[m][i][1] > 0 else s + expander.const[1]\n",
    "            else:\n",
    "                s = crowd_data[m][-1][0]\n",
    "                e = crowd_data[m][-1][1]\n",
    "            p[2] += 1\n",
    "            if s in dota2_test_data.gt[f]:\n",
    "                p[0] += 1\n",
    "            if e in end_gt[f]:\n",
    "                p[1] += 1\n",
    "        else:\n",
    "            if i < l:\n",
    "                s = crowd_data[m][i][0]\n",
    "                e = crowd_data[m][i][1] if crowd_data[m][i - 1][1] > 0 else s + expander.const[1]\n",
    "                p[2] += 1\n",
    "                if s in dota2_test_data.gt[f]:\n",
    "                    p[0] += 1\n",
    "                if e in end_gt[f]:\n",
    "                    p[1] += 1\n",
    "    pre.append(p)\n",
    "start = [i[0] / i[2] for i in pre]\n",
    "end = [i[1] / i[2] for i in pre]\n",
    "\n",
    "crowd_plot = [\n",
    "    [start, '-r*', 'start'],\n",
    "    [end, '--b+', 'end']\n",
    "]\n",
    "\n",
    "plot_precision(crowd_plot, '# of Iterations', 'Video Precision', list(range(0, iternum + 1)), [0, 1], np.arange(0, 1.1, 0.2))"
   ]
  },
  {
   "cell_type": "markdown",
   "metadata": {},
   "source": [
    "# Exp for Figure 9"
   ]
  },
  {
   "cell_type": "code",
   "execution_count": null,
   "metadata": {},
   "outputs": [],
   "source": [
    "plot_trends()"
   ]
  },
  {
   "cell_type": "code",
   "execution_count": 3,
   "metadata": {},
   "outputs": [
    {
     "ename": "ImportError",
     "evalue": "No module named 'seaborn'",
     "output_type": "error",
     "traceback": [
      "\u001b[0;31m---------------------------------------------------------------------------\u001b[0m",
      "\u001b[0;31mImportError\u001b[0m                               Traceback (most recent call last)",
      "\u001b[0;32m<ipython-input-3-ed9806ce3570>\u001b[0m in \u001b[0;36m<module>\u001b[0;34m()\u001b[0m\n\u001b[0;32m----> 1\u001b[0;31m \u001b[0;32mimport\u001b[0m \u001b[0mseaborn\u001b[0m \u001b[0;32mas\u001b[0m \u001b[0msns\u001b[0m\u001b[0;34m\u001b[0m\u001b[0m\n\u001b[0m",
      "\u001b[0;31mImportError\u001b[0m: No module named 'seaborn'"
     ]
    }
   ],
   "source": []
  },
  {
   "cell_type": "code",
   "execution_count": 2,
   "metadata": {},
   "outputs": [
    {
     "ename": "NameError",
     "evalue": "name 'sns' is not defined",
     "output_type": "error",
     "traceback": [
      "\u001b[0;31m---------------------------------------------------------------------------\u001b[0m",
      "\u001b[0;31mNameError\u001b[0m                                 Traceback (most recent call last)",
      "\u001b[0;32m<ipython-input-2-7f7def011dbd>\u001b[0m in \u001b[0;36m<module>\u001b[0;34m()\u001b[0m\n\u001b[0;32m----> 1\u001b[0;31m \u001b[0mplot_behaviors\u001b[0m\u001b[0;34m(\u001b[0m\u001b[0;34m\"1\"\u001b[0m\u001b[0;34m)\u001b[0m\u001b[0;34m\u001b[0m\u001b[0m\n\u001b[0m",
      "\u001b[0;32m/home/ruochenj/Desktop/Lightor_Exp/utils.py\u001b[0m in \u001b[0;36mplot_behaviors\u001b[0;34m(t)\u001b[0m\n\u001b[1;32m    125\u001b[0m \u001b[0;34m\u001b[0m\u001b[0m\n\u001b[1;32m    126\u001b[0m     \u001b[0mbins\u001b[0m \u001b[0;34m=\u001b[0m \u001b[0mnp\u001b[0m\u001b[0;34m.\u001b[0m\u001b[0marange\u001b[0m\u001b[0;34m(\u001b[0m\u001b[0mmin\u001b[0m\u001b[0;34m(\u001b[0m\u001b[0minterval\u001b[0m\u001b[0;34m[\u001b[0m\u001b[0mt\u001b[0m\u001b[0;34m]\u001b[0m\u001b[0;34m)\u001b[0m \u001b[0;34m-\u001b[0m \u001b[0;36m1\u001b[0m\u001b[0;34m,\u001b[0m \u001b[0mmax\u001b[0m\u001b[0;34m(\u001b[0m\u001b[0minterval\u001b[0m\u001b[0;34m[\u001b[0m\u001b[0mt\u001b[0m\u001b[0;34m]\u001b[0m\u001b[0;34m)\u001b[0m \u001b[0;34m+\u001b[0m \u001b[0;36m1\u001b[0m\u001b[0;34m,\u001b[0m \u001b[0;36m5\u001b[0m\u001b[0;34m)\u001b[0m\u001b[0;34m\u001b[0m\u001b[0m\n\u001b[0;32m--> 127\u001b[0;31m     sns.distplot(interval[1], hist=True, kde=True,\n\u001b[0m\u001b[1;32m    128\u001b[0m              \u001b[0mbins\u001b[0m\u001b[0;34m=\u001b[0m\u001b[0mbins\u001b[0m\u001b[0;34m,\u001b[0m \u001b[0mcolor\u001b[0m \u001b[0;34m=\u001b[0m \u001b[0;34m'darkblue'\u001b[0m\u001b[0;34m,\u001b[0m\u001b[0;34m\u001b[0m\u001b[0m\n\u001b[1;32m    129\u001b[0m              \u001b[0mhist_kws\u001b[0m\u001b[0;34m=\u001b[0m\u001b[0;34m{\u001b[0m\u001b[0;34m'edgecolor'\u001b[0m\u001b[0;34m:\u001b[0m\u001b[0;34m'black'\u001b[0m\u001b[0;34m}\u001b[0m\u001b[0;34m,\u001b[0m\u001b[0;34m\u001b[0m\u001b[0m\n",
      "\u001b[0;31mNameError\u001b[0m: name 'sns' is not defined"
     ]
    }
   ],
   "source": [
    "plot_behaviors(\"1\")"
   ]
  },
  {
   "cell_type": "code",
   "execution_count": null,
   "metadata": {},
   "outputs": [],
   "source": []
  }
 ],
 "metadata": {
  "kernelspec": {
   "display_name": "Python 3",
   "language": "python",
   "name": "python3"
  },
  "language_info": {
   "codemirror_mode": {
    "name": "ipython",
    "version": 3
   },
   "file_extension": ".py",
   "mimetype": "text/x-python",
   "name": "python",
   "nbconvert_exporter": "python",
   "pygments_lexer": "ipython3",
   "version": "3.5.2"
  }
 },
 "nbformat": 4,
 "nbformat_minor": 2
}
